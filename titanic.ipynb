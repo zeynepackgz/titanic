{
 "cells": [
  {
   "cell_type": "code",
   "execution_count": 1,
   "id": "46aec68b-902e-47a8-aa60-a3af4786c24a",
   "metadata": {},
   "outputs": [],
   "source": [
    "import numpy as np\n",
    "import pandas as pd"
   ]
  },
  {
   "cell_type": "code",
   "execution_count": 3,
   "id": "c26f66d9-dca1-420c-879c-01570916aac6",
   "metadata": {},
   "outputs": [],
   "source": [
    "df = pd.read_csv(\"Titanic_dataset.csv\")"
   ]
  },
  {
   "cell_type": "code",
   "execution_count": 4,
   "id": "8c2c4d5f-709c-45c7-8ae2-ac800b4446e3",
   "metadata": {
    "scrolled": true
   },
   "outputs": [
    {
     "data": {
      "text/html": [
       "<div>\n",
       "<style scoped>\n",
       "    .dataframe tbody tr th:only-of-type {\n",
       "        vertical-align: middle;\n",
       "    }\n",
       "\n",
       "    .dataframe tbody tr th {\n",
       "        vertical-align: top;\n",
       "    }\n",
       "\n",
       "    .dataframe thead th {\n",
       "        text-align: right;\n",
       "    }\n",
       "</style>\n",
       "<table border=\"1\" class=\"dataframe\">\n",
       "  <thead>\n",
       "    <tr style=\"text-align: right;\">\n",
       "      <th></th>\n",
       "      <th>PassengerId</th>\n",
       "      <th>Survived</th>\n",
       "      <th>Pclass</th>\n",
       "      <th>Name</th>\n",
       "      <th>Sex</th>\n",
       "      <th>Age</th>\n",
       "      <th>SibSp</th>\n",
       "      <th>Parch</th>\n",
       "      <th>Ticket</th>\n",
       "      <th>Fare</th>\n",
       "      <th>Cabin</th>\n",
       "      <th>Embarked</th>\n",
       "    </tr>\n",
       "  </thead>\n",
       "  <tbody>\n",
       "    <tr>\n",
       "      <th>0</th>\n",
       "      <td>1</td>\n",
       "      <td>0</td>\n",
       "      <td>3</td>\n",
       "      <td>Braund, Mr. Owen Harris</td>\n",
       "      <td>male</td>\n",
       "      <td>22.0</td>\n",
       "      <td>1</td>\n",
       "      <td>0</td>\n",
       "      <td>A/5 21171</td>\n",
       "      <td>7.2500</td>\n",
       "      <td>NaN</td>\n",
       "      <td>S</td>\n",
       "    </tr>\n",
       "    <tr>\n",
       "      <th>1</th>\n",
       "      <td>2</td>\n",
       "      <td>1</td>\n",
       "      <td>1</td>\n",
       "      <td>Cumings, Mrs. John Bradley (Florence Briggs Th...</td>\n",
       "      <td>female</td>\n",
       "      <td>38.0</td>\n",
       "      <td>1</td>\n",
       "      <td>0</td>\n",
       "      <td>PC 17599</td>\n",
       "      <td>71.2833</td>\n",
       "      <td>C85</td>\n",
       "      <td>C</td>\n",
       "    </tr>\n",
       "    <tr>\n",
       "      <th>2</th>\n",
       "      <td>3</td>\n",
       "      <td>1</td>\n",
       "      <td>3</td>\n",
       "      <td>Heikkinen, Miss. Laina</td>\n",
       "      <td>female</td>\n",
       "      <td>26.0</td>\n",
       "      <td>0</td>\n",
       "      <td>0</td>\n",
       "      <td>STON/O2. 3101282</td>\n",
       "      <td>7.9250</td>\n",
       "      <td>NaN</td>\n",
       "      <td>S</td>\n",
       "    </tr>\n",
       "    <tr>\n",
       "      <th>3</th>\n",
       "      <td>4</td>\n",
       "      <td>1</td>\n",
       "      <td>1</td>\n",
       "      <td>Futrelle, Mrs. Jacques Heath (Lily May Peel)</td>\n",
       "      <td>female</td>\n",
       "      <td>35.0</td>\n",
       "      <td>1</td>\n",
       "      <td>0</td>\n",
       "      <td>113803</td>\n",
       "      <td>53.1000</td>\n",
       "      <td>C123</td>\n",
       "      <td>S</td>\n",
       "    </tr>\n",
       "    <tr>\n",
       "      <th>4</th>\n",
       "      <td>5</td>\n",
       "      <td>0</td>\n",
       "      <td>3</td>\n",
       "      <td>Allen, Mr. William Henry</td>\n",
       "      <td>male</td>\n",
       "      <td>35.0</td>\n",
       "      <td>0</td>\n",
       "      <td>0</td>\n",
       "      <td>373450</td>\n",
       "      <td>8.0500</td>\n",
       "      <td>NaN</td>\n",
       "      <td>S</td>\n",
       "    </tr>\n",
       "  </tbody>\n",
       "</table>\n",
       "</div>"
      ],
      "text/plain": [
       "   PassengerId  Survived  Pclass  \\\n",
       "0            1         0       3   \n",
       "1            2         1       1   \n",
       "2            3         1       3   \n",
       "3            4         1       1   \n",
       "4            5         0       3   \n",
       "\n",
       "                                                Name     Sex   Age  SibSp  \\\n",
       "0                            Braund, Mr. Owen Harris    male  22.0      1   \n",
       "1  Cumings, Mrs. John Bradley (Florence Briggs Th...  female  38.0      1   \n",
       "2                             Heikkinen, Miss. Laina  female  26.0      0   \n",
       "3       Futrelle, Mrs. Jacques Heath (Lily May Peel)  female  35.0      1   \n",
       "4                           Allen, Mr. William Henry    male  35.0      0   \n",
       "\n",
       "   Parch            Ticket     Fare Cabin Embarked  \n",
       "0      0         A/5 21171   7.2500   NaN        S  \n",
       "1      0          PC 17599  71.2833   C85        C  \n",
       "2      0  STON/O2. 3101282   7.9250   NaN        S  \n",
       "3      0            113803  53.1000  C123        S  \n",
       "4      0            373450   8.0500   NaN        S  "
      ]
     },
     "execution_count": 4,
     "metadata": {},
     "output_type": "execute_result"
    }
   ],
   "source": [
    "df.head()"
   ]
  },
  {
   "cell_type": "markdown",
   "id": "f6c345a2-4493-477d-ae28-f91d723937cd",
   "metadata": {},
   "source": [
    "### Titanic Veri Seti Sütunları\n",
    "\n",
    "- **survival**: Hayatta Kalma Durumu (0 = Hayır, 1 = Evet)\n",
    "- **pclass**: Bilet Sınıfı (1 = 1. sınıf, 2 = 2. sınıf, 3 = 3. sınıf)\n",
    "- **sex**: Cinsiyet\n",
    "- **age**: Yaş (yıl cinsinden)\n",
    "- **sibsp**: Gemideki kardeş veya eş sayısı\n",
    "- **parch**: Gemideki ebeveyn veya çocuk sayısı\n",
    "- **ticket**: Bilet numarası\n",
    "- **fare**: Ödenen ücret\n",
    "- **cabin**: Kamara numarası\n",
    "- **embarked**: Biniş Limanı (C = Cherbourg, Q = Queenstown, S = Southampton)"
   ]
  },
  {
   "cell_type": "markdown",
   "id": "22ac6d57-99f6-4418-a788-f141d7d15cb8",
   "metadata": {},
   "source": [
    "### 1. KAZADA ÖLENLERİN YAŞ ORTALAMASINI BULUNUZ"
   ]
  },
  {
   "cell_type": "markdown",
   "id": "167c7e34-a811-4600-81ef-eee33024d3ad",
   "metadata": {},
   "source": [
    "##### survival kısmındaki 0 olan satırları seçip ve bunların age sütunundaki ortalamasını alacağım"
   ]
  },
  {
   "cell_type": "code",
   "execution_count": 9,
   "id": "a5c7f6c4-c82e-4d7c-be03-2c377f65df4a",
   "metadata": {},
   "outputs": [],
   "source": [
    "dead_age_mean = df[df[\"Survived\"] == 0][\"Age\"].mean()"
   ]
  },
  {
   "cell_type": "code",
   "execution_count": 10,
   "id": "54170f1c-50e3-4b8c-8114-9d8b4efcbbe8",
   "metadata": {},
   "outputs": [
    {
     "data": {
      "text/plain": [
       "30.62617924528302"
      ]
     },
     "execution_count": 10,
     "metadata": {},
     "output_type": "execute_result"
    }
   ],
   "source": [
    "dead_age_mean"
   ]
  },
  {
   "cell_type": "markdown",
   "id": "4fe676d0-4179-4081-974d-31db11552808",
   "metadata": {},
   "source": [
    "### 2. KAZADA ÖLENLERİN BİLET FİYAT ORTALAMASINI VE MEDYANINI BULUNUZ"
   ]
  },
  {
   "cell_type": "code",
   "execution_count": 13,
   "id": "b992596d-e989-4564-a051-99633cb00feb",
   "metadata": {},
   "outputs": [
    {
     "data": {
      "text/plain": [
       "22.117886885245902"
      ]
     },
     "execution_count": 13,
     "metadata": {},
     "output_type": "execute_result"
    }
   ],
   "source": [
    "dead_fare_mean = df[df[\"Survived\"]==0][\"Fare\"].mean()\n",
    "dead_fare_mean"
   ]
  },
  {
   "cell_type": "code",
   "execution_count": 15,
   "id": "5613cf9e-eb88-4ccb-a2f2-436c6c104417",
   "metadata": {},
   "outputs": [
    {
     "data": {
      "text/plain": [
       "10.5"
      ]
     },
     "execution_count": 15,
     "metadata": {},
     "output_type": "execute_result"
    }
   ],
   "source": [
    "dead_fare_median = df[df[\"Survived\"]==0][\"Fare\"].median()\n",
    "dead_fare_median"
   ]
  },
  {
   "cell_type": "markdown",
   "id": "3400a7db-151c-408b-a54b-fe85dde5b551",
   "metadata": {},
   "source": [
    "### 3. KAZADA ÖLEN ERKEKLERİN YAŞ ORTALAMASINI BULUNUZ"
   ]
  },
  {
   "cell_type": "code",
   "execution_count": 17,
   "id": "9205c2ff-d668-4e76-b88e-142b034d5767",
   "metadata": {},
   "outputs": [
    {
     "data": {
      "text/plain": [
       "31.618055555555557"
      ]
     },
     "execution_count": 17,
     "metadata": {},
     "output_type": "execute_result"
    }
   ],
   "source": [
    "dead_male_age_mean = df[(df[\"Survived\"] == 0) & (df[\"Sex\"] == \"male\")][\"Age\"].mean()\n",
    "dead_male_age_mean"
   ]
  },
  {
   "cell_type": "markdown",
   "id": "d2c610bc-141e-47f7-a11c-5412e0356f77",
   "metadata": {},
   "source": [
    "### 4. KAZADA ÖLEN KADINLARIN YAŞ ORTALAMASINI BULUNUZ"
   ]
  },
  {
   "cell_type": "code",
   "execution_count": 18,
   "id": "12d2cb4f-6d4d-4976-bfae-8ddbcf5a995a",
   "metadata": {},
   "outputs": [
    {
     "data": {
      "text/plain": [
       "25.046875"
      ]
     },
     "execution_count": 18,
     "metadata": {},
     "output_type": "execute_result"
    }
   ],
   "source": [
    "dead_female_age_mean = df[(df[\"Survived\"] == 0) & (df[\"Sex\"] == \"female\")][\"Age\"].mean()\n",
    "dead_female_age_mean"
   ]
  },
  {
   "cell_type": "markdown",
   "id": "3b4a663d-30ae-44e5-ba9e-b34cbd0c49b3",
   "metadata": {},
   "source": [
    "### 5. KAZADAN KURTULANLARIN YAŞ ORTALAMASINI BULUNUZ"
   ]
  },
  {
   "cell_type": "code",
   "execution_count": 19,
   "id": "0f470ade-9902-47da-8183-06383bcc13f0",
   "metadata": {},
   "outputs": [
    {
     "data": {
      "text/plain": [
       "28.343689655172415"
      ]
     },
     "execution_count": 19,
     "metadata": {},
     "output_type": "execute_result"
    }
   ],
   "source": [
    "live_age_mean = df[df[\"Survived\"] == 1][\"Age\"].mean()\n",
    "live_age_mean"
   ]
  },
  {
   "cell_type": "markdown",
   "id": "5c792cd4-7f04-4c7e-8f93-7d278863500b",
   "metadata": {},
   "source": [
    "### 6. KAZADAN KURTULANLARIN BİLET FİYATLARININ ORTLAMASINI BULUNUZ"
   ]
  },
  {
   "cell_type": "code",
   "execution_count": 20,
   "id": "4200d264-d390-4b37-8dd3-902080e2d263",
   "metadata": {},
   "outputs": [
    {
     "data": {
      "text/plain": [
       "48.39540760233918"
      ]
     },
     "execution_count": 20,
     "metadata": {},
     "output_type": "execute_result"
    }
   ],
   "source": [
    "live_fare_mean = df[df[\"Survived\"]==1][\"Fare\"].mean()\n",
    "live_fare_mean"
   ]
  },
  {
   "cell_type": "markdown",
   "id": "ee3d2d61-8bdb-4fc9-ae17-6c7fc8dc3508",
   "metadata": {},
   "source": [
    "### 7. KAZADAN KURTULAN TOPLAM KİŞİ SAYISINI BULUNUZ"
   ]
  },
  {
   "cell_type": "code",
   "execution_count": 23,
   "id": "dc769003-9a37-4542-b7eb-331a0c065318",
   "metadata": {},
   "outputs": [
    {
     "data": {
      "text/plain": [
       "342"
      ]
     },
     "execution_count": 23,
     "metadata": {},
     "output_type": "execute_result"
    }
   ],
   "source": [
    "live = df[df[\"Survived\"]==1].shape[0]\n",
    "live"
   ]
  },
  {
   "cell_type": "code",
   "execution_count": 25,
   "id": "10ff12dc-ae34-4f5e-97b6-958b9aefdf26",
   "metadata": {},
   "outputs": [
    {
     "data": {
      "text/plain": [
       "342"
      ]
     },
     "execution_count": 25,
     "metadata": {},
     "output_type": "execute_result"
    }
   ],
   "source": [
    "len(df[(df.Survived==1)]) #2. yol"
   ]
  },
  {
   "cell_type": "markdown",
   "id": "8e86c5bd-4cda-47fd-a68e-04305c192eee",
   "metadata": {},
   "source": [
    "### 8. 10 YAŞINDAN KÜÇÜKLERİN BİLET FİYATLARININ MEDYAN DEĞERİNİ BULUNUZ"
   ]
  },
  {
   "cell_type": "code",
   "execution_count": 27,
   "id": "2e94b48c-fe78-487a-82c1-8f904368acbf",
   "metadata": {},
   "outputs": [
    {
     "data": {
      "text/plain": [
       "27.0"
      ]
     },
     "execution_count": 27,
     "metadata": {},
     "output_type": "execute_result"
    }
   ],
   "source": [
    "child_fare_median = df[df[\"Age\"] < 10][\"Fare\"].median()\n",
    "child_fare_median"
   ]
  },
  {
   "cell_type": "markdown",
   "id": "88b6a05e-1e8b-4c7a-9566-3548e1062010",
   "metadata": {},
   "source": [
    "### 9. 1.SINIF, 2.SINIF ve 3.SINIF BİLET FİYATLARININ ORTALAMA ve MEDYANLARINI KARŞILAŞTIRINIZ. "
   ]
  },
  {
   "cell_type": "code",
   "execution_count": 28,
   "id": "efb6872e-5649-4c29-b0e1-32ad136d88a5",
   "metadata": {},
   "outputs": [],
   "source": [
    "first_class_mean = df[df[\"Pclass\"] == 1][\"Fare\"].mean()\n",
    "first_class_median = df[df[\"Pclass\"] == 1][\"Fare\"].median()"
   ]
  },
  {
   "cell_type": "code",
   "execution_count": 31,
   "id": "3393829d-f0a5-4f6b-a0f3-5f1526ea1a1b",
   "metadata": {},
   "outputs": [],
   "source": [
    "second_class_mean = df[df[\"Pclass\"] == 2][\"Fare\"].mean()\n",
    "second_class_median = df[df[\"Pclass\"] == 2][\"Fare\"].median()"
   ]
  },
  {
   "cell_type": "code",
   "execution_count": 32,
   "id": "f4b0ec7e-7841-41a1-85c6-eaaa875da25a",
   "metadata": {},
   "outputs": [],
   "source": [
    "third_class_mean = df[df[\"Pclass\"] == 3][\"Fare\"].mean()\n",
    "third_class_median =  df[df[\"Pclass\"] == 3][\"Fare\"].median()"
   ]
  },
  {
   "cell_type": "code",
   "execution_count": 33,
   "id": "bf0688a2-b399-4337-8605-7883f618d2f6",
   "metadata": {},
   "outputs": [
    {
     "data": {
      "image/png": "[encoded data removed]",
      "text/plain": [
       "<Figure size 800x500 with 1 Axes>"
      ]
     },
     "metadata": {},
     "output_type": "display_data"
    }
   ],
   "source": [
    "import matplotlib.pyplot as plt\n",
    "import numpy as np\n",
    "\n",
    "# Sınıf adları\n",
    "classes = ['1. Sınıf', '2. Sınıf', '3. Sınıf']\n",
    "\n",
    "# Ortalama ve medyan değerler\n",
    "means = [first_class_mean, second_class_mean, third_class_mean]\n",
    "medians = [first_class_median, second_class_median, third_class_median]\n",
    "\n",
    "# Bar genişliği ve pozisyonları\n",
    "x = np.arange(len(classes))\n",
    "width = 0.35  # Bar kalınlığı\n",
    "\n",
    "# Grafik oluştur\n",
    "fig, ax = plt.subplots(figsize=(8, 5))\n",
    "bars1 = ax.bar(x - width/2, means, width, label='Ortalama Ücret', color='skyblue')\n",
    "bars2 = ax.bar(x + width/2, medians, width, label='Medyan Ücret', color='salmon')\n",
    "\n",
    "# Başlık ve etiketler\n",
    "ax.set_ylabel('Ücret ($)')\n",
    "ax.set_title('Yolcu Sınıfına Göre Ortalama ve Medyan Ücretler')\n",
    "ax.set_xticks(x)\n",
    "ax.set_xticklabels(classes)\n",
    "ax.legend()\n",
    "\n",
    "# Üzerlerine değer yazmak (isteğe bağlı)\n",
    "for bar in bars1 + bars2:\n",
    "    yval = bar.get_height()\n",
    "    ax.text(bar.get_x() + bar.get_width()/2, yval + 2, f'{yval:.2f}', ha='center', va='bottom', fontsize=9)\n",
    "\n",
    "plt.tight_layout()\n",
    "plt.show()\n"
   ]
  },
  {
   "cell_type": "markdown",
   "id": "06178c7b-aa09-41b4-aa6c-f333ee2d9d36",
   "metadata": {},
   "source": [
    "### 10. KAZADA ÖLEN KADINLARIN ORANI İLE ERKEKLERİN ORANINI KARŞILAŞTIRINIZ"
   ]
  },
  {
   "cell_type": "code",
   "execution_count": 40,
   "id": "76e98e18-32b5-47e4-b955-0c388bb735ed",
   "metadata": {},
   "outputs": [
    {
     "data": {
      "text/plain": [
       "4.293577981651376"
      ]
     },
     "execution_count": 40,
     "metadata": {},
     "output_type": "execute_result"
    }
   ],
   "source": [
    "dead_male = len(df[(df[\"Survived\"]==0) & (df[\"Sex\"] == \"male\")]) / len(df[(df[\"Survived\"]==1) & (df[\"Sex\"] == \"male\")])\n",
    "dead_male"
   ]
  },
  {
   "cell_type": "code",
   "execution_count": 41,
   "id": "e56cd4d5-f81c-43f5-a37b-4d8ae6170a31",
   "metadata": {},
   "outputs": [
    {
     "data": {
      "text/plain": [
       "0.34763948497854075"
      ]
     },
     "execution_count": 41,
     "metadata": {},
     "output_type": "execute_result"
    }
   ],
   "source": [
    "dead_female = len(df[(df[\"Survived\"]==0) & (df[\"Sex\"] == \"female\")]) / len(df[(df[\"Survived\"]==1) & (df[\"Sex\"] == \"female\")])\n",
    "dead_female"
   ]
  },
  {
   "cell_type": "code",
   "execution_count": 43,
   "id": "f5a8df10-7dd1-4e73-84c2-ec28b077daf5",
   "metadata": {},
   "outputs": [
    {
     "data": {
      "image/png": "[encoded data removed]",
      "text/plain": [
       "<Figure size 600x400 with 1 Axes>"
      ]
     },
     "metadata": {},
     "output_type": "display_data"
    }
   ],
   "source": [
    "import matplotlib.pyplot as plt\n",
    "\n",
    "# Etiketler ve değerler\n",
    "labels = ['Erkek', 'Kadın']\n",
    "values = [dead_male, dead_female]\n",
    "\n",
    "# Grafik\n",
    "plt.figure(figsize=(6, 4))\n",
    "bars = plt.bar(labels, values, color=['steelblue', 'lightcoral'])\n",
    "\n",
    "# Yüzde yazıları\n",
    "for bar in bars:\n",
    "    yval = bar.get_height()\n",
    "    plt.text(bar.get_x() + bar.get_width()/2, yval + 0.02, f\"{yval:.2f}\", ha='center', va='bottom', fontsize=10)\n",
    "\n",
    "# Başlık ve eksen\n",
    "plt.title(\"Kazada Ölenlerin Karşılaştırılması\")\n",
    "plt.ylabel(\"Oran\")\n",
    "plt.ylim(0, max(values) + 0.5)\n",
    "\n",
    "plt.tight_layout()\n",
    "plt.show()"
   ]
  },
  {
   "cell_type": "code",
   "execution_count": null,
   "id": "a92f5562-10dd-4a0d-8976-92800fb897fe",
   "metadata": {},
   "outputs": [],
   "source": []
  }
 ],
 "metadata": {
  "kernelspec": {
   "display_name": "Python 3 (ipykernel)",
   "language": "python",
   "name": "python3"
  },
  "language_info": {
   "codemirror_mode": {
    "name": "ipython",
    "version": 3
   },
   "file_extension": ".py",
   "mimetype": "text/x-python",
   "name": "python",
   "nbconvert_exporter": "python",
   "pygments_lexer": "ipython3",
   "version": "3.12.7"
  }
 },
 "nbformat": 4,
 "nbformat_minor": 5
}
